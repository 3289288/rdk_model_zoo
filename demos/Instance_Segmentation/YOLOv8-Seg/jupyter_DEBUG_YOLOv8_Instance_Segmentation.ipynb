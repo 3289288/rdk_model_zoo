{
 "cells": [
  {
   "cell_type": "code",
   "execution_count": 2,
   "id": "cb3a1dd4-1c89-44ad-83f5-bd004778e6f8",
   "metadata": {},
   "outputs": [],
   "source": [
    "# Copyright (c) 2024，WuChao D-Robotics.\n",
    "#\n",
    "# Licensed under the Apache License, Version 2.0 (the \"License\");\n",
    "# you may not use this file except in compliance with the License.\n",
    "# You may obtain a copy of the License at\n",
    "#\n",
    "#     http://www.apache.org/licenses/LICENSE-2.0\n",
    "#\n",
    "# Unless required by applicable law or agreed to in writing, software\n",
    "# distributed under the License is distributed on an \"AS IS\" BASIS,\n",
    "# WITHOUT WARRANTIES OR CONDITIONS OF ANY KIND, either express or implied.\n",
    "# See the License for the specific language governing permissions and\n",
    "# limitations under the License.\n",
    "\n",
    "import cv2\n",
    "import numpy as np\n",
    "from scipy.special import softmax\n",
    "# from scipy.special import expit as sigmoid\n",
    "from time import time\n",
    "from bpu_infer_lib import Infer as bpu"
   ]
  },
  {
   "cell_type": "code",
   "execution_count": 3,
   "id": "b5626929-7670-474d-a01b-f2ba909f7d0c",
   "metadata": {
    "jupyter": {
     "source_hidden": true
    }
   },
   "outputs": [
    {
     "name": "stderr",
     "output_type": "stream",
     "text": [
      "/usr/local/lib/python3.10/dist-packages/matplotlib/projections/__init__.py:63: UserWarning: Unable to import Axes3D. This may be due to multiple versions of Matplotlib being installed (e.g. as a system package and as a pip package). As a result, the 3D projection is not available.\n",
      "  warnings.warn(\"Unable to import Axes3D. This may be due to multiple versions of \"\n"
     ]
    }
   ],
   "source": [
    "coco_names = [\n",
    "    \"person\", \"bicycle\", \"car\", \"motorcycle\", \"airplane\", \n",
    "    \"bus\", \"train\", \"truck\", \"boat\", \"traffic light\", \n",
    "    \"fire hydrant\", \"stop sign\", \"parking meter\", \"bench\", \"bird\", \n",
    "    \"cat\", \"dog\", \"horse\", \"sheep\", \"cow\", \n",
    "    \"elephant\", \"bear\", \"zebra\", \"giraffe\", \"backpack\", \n",
    "    \"umbrella\", \"handbag\", \"tie\", \"suitcase\", \"frisbee\", \n",
    "    \"skis\", \"snowboard\", \"sports ball\", \"kite\", \"baseball bat\", \n",
    "    \"baseball glove\", \"skateboard\", \"surfboard\", \"tennis racket\", \"bottle\", \n",
    "    \"wine glass\", \"cup\", \"fork\", \"knife\", \"spoon\", \n",
    "    \"bowl\", \"banana\", \"apple\", \"sandwich\", \"orange\", \n",
    "    \"broccoli\", \"carrot\", \"hot dog\", \"pizza\", \"donut\", \n",
    "    \"cake\", \"chair\", \"couch\", \"potted plant\", \"bed\", \n",
    "    \"dining table\", \"toilet\", \"tv\", \"laptop\", \"mouse\", \n",
    "    \"remote\", \"keyboard\", \"cell phone\", \"microwave\", \"oven\", \n",
    "    \"toaster\", \"sink\", \"refrigerator\", \"book\", \"clock\", \n",
    "    \"vase\", \"scissors\", \"teddy bear\", \"hair drier\", \"toothbrush\"\n",
    "    ]\n",
    "\n",
    "yolo_colors = [\n",
    "    (56, 56, 255), (151, 157, 255), (31, 112, 255), (29, 178, 255),\n",
    "    (49, 210, 207), (10, 249, 72), (23, 204, 146), (134, 219, 61),\n",
    "    (52, 147, 26), (187, 212, 0), (168, 153, 44), (255, 194, 0),\n",
    "    (147, 69, 52), (255, 115, 100), (236, 24, 0), (255, 56, 132),\n",
    "    (133, 0, 82), (255, 56, 203), (200, 149, 255), (199, 55, 255)]\n",
    "\n",
    "def draw_detection(img: np.array, \n",
    "                   box: tuple, \n",
    "                   score: float, \n",
    "                   class_id: int):\n",
    "    x1, y1, x2, y2 = box\n",
    "    color = yolo_colors[class_id%20]\n",
    "    cv2.rectangle(img, (x1, y1), (x2, y2), color, 2)\n",
    "    label = f\"{coco_names[class_id]}: {score:.2f}\"\n",
    "    (label_width, label_height), _ = cv2.getTextSize(label, cv2.FONT_HERSHEY_SIMPLEX, 0.5, 1)\n",
    "    label_x = x1\n",
    "    label_y = y1 - 10 if y1 - 10 > label_height else y1 + 10\n",
    "    # Draw a filled rectangle as the background for the label text\n",
    "    cv2.rectangle(\n",
    "        img, (label_x, label_y - label_height), (label_x + label_width, label_y + label_height), color, cv2.FILLED\n",
    "    )\n",
    "    # Draw the label text on the image\n",
    "    cv2.putText(img, label, (label_x, label_y), cv2.FONT_HERSHEY_SIMPLEX, 0.5, (0, 0, 0), 1, cv2.LINE_AA)\n",
    "\n",
    "# matplotlib 绘制图像到Web\n",
    "from  matplotlib import pyplot as plt\n",
    "%matplotlib inline\n",
    "def cv2_img2plt_img(\n",
    "        cv2_img: np.array\n",
    "        )-> np.array:\n",
    "    if cv2_img.ndim==3:  # 彩图\n",
    "        return cv2_img[:,:,::-1]\n",
    "    else:                # 灰度图\n",
    "        return cv2_img\n",
    "def jshow(cv2_img: np.array, \n",
    "          size: int = 4\n",
    "         )-> None:\n",
    "    plt.figure(figsize=(size, size))\n",
    "    plt.imshow(cv2_img2plt_img(cv2_img), plt.cm.gray)\n",
    "    plt.show()"
   ]
  },
  {
   "cell_type": "code",
   "execution_count": 4,
   "id": "02424175-5caa-482b-8313-21126ec4659d",
   "metadata": {},
   "outputs": [
    {
     "name": "stdout",
     "output_type": "stream",
     "text": [
      "The model path is not valid or does not point to a regular file.\n",
      "handle init error\n"
     ]
    },
    {
     "data": {
      "text/plain": [
       "False"
      ]
     },
     "execution_count": 4,
     "metadata": {},
     "output_type": "execute_result"
    }
   ],
   "source": [
    "model_path = \"models/yolov8n_instance_seg_bayese_640x640_nchw_modified.bin\"\n",
    "model = bpu(False)\n",
    "model.load_model(model_path)"
   ]
  },
  {
   "cell_type": "code",
   "execution_count": null,
   "id": "6018498f-49cd-4cae-a29c-332574c5bf25",
   "metadata": {},
   "outputs": [],
   "source": [
    "# 提前将反量化系数准备好\n",
    "s_mces_scale = np.array(model.get_output_scale(0).scaleData, dtype=np.float32)\n",
    "m_mces_scale = np.array(model.get_output_scale(1).scaleData, dtype=np.float32)\n",
    "l_mces_scale = np.array(model.get_output_scale(2).scaleData, dtype=np.float32)\n",
    "print(f\"{s_mc_scale.shape=}, {m_mc_scale.shape=}, {l_mc_scale.shape=}\")\n",
    "\n",
    "s_bboxes_scale = np.array(model.get_output_scale(3).scaleData, dtype=np.float32)\n",
    "m_bboxes_scale = np.array(model.get_output_scale(4).scaleData, dtype=np.float32)\n",
    "l_bboxes_scale = np.array(model.get_output_scale(5).scaleData, dtype=np.float32)\n",
    "print(f\"{s_bboxes_scale.shape=}, {m_bboxes_scale.shape=}, {l_bboxes_scale.shape=}\")\n",
    "\n",
    "# DFL求期望的系数, 只需要生成一次\n",
    "weights_static = np.array([i for i in range(16)]).astype(np.float32)[np.newaxis, :, np.newaxis]\n",
    "print(f\"{weights_static.shape = }\")\n",
    "\n",
    "# 提前准备一些索引, 只需要生成一次\n",
    "static_index = np.arange(8400)\n",
    "print(f\"{static_index.shape = }\")\n",
    "\n",
    "# anchors, 只需要生成一次\n",
    "s_anchor = np.stack([np.tile(np.linspace(0.5, 79.5, 80), reps=80), \n",
    "                     np.repeat(np.arange(0.5, 80.5, 1), 80)], axis=0)\n",
    "m_anchor = np.stack([np.tile(np.linspace(0.5, 39.5, 40), reps=40), \n",
    "                     np.repeat(np.arange(0.5, 40.5, 1), 40)], axis=0)\n",
    "l_anchor = np.stack([np.tile(np.linspace(0.5, 19.5, 20), reps=20), \n",
    "                     np.repeat(np.arange(0.5, 20.5, 1), 20)], axis=0)\n",
    "print(f\"{s_anchor.shape = }\")\n",
    "print(f\"{m_anchor.shape = }\")\n",
    "print(f\"{l_anchor.shape = }\")\n",
    "\n",
    "# 输入图像大小, 一些阈值, 提前计算好\n",
    "input_image_size = 640\n",
    "conf=0.5\n",
    "iou=0.5\n",
    "conf_inverse = -np.log(1/conf - 1)\n",
    "print(\"iou threshol = %.2f, conf threshol = %.2f\"%(iou, conf))\n",
    "print(\"sigmoid_inverse threshol = %.2f\"%conf_inverse)"
   ]
  },
  {
   "cell_type": "code",
   "execution_count": null,
   "id": "22ea37e9-0f36-4981-a9ed-bd8ca2123ef8",
   "metadata": {},
   "outputs": [],
   "source": [
    "# 读取一张bgr8格式的图像, 并进行可视化\n",
    "begin_time = time()\n",
    "img = cv2.imread(\"../../../resource/assets/bus.jpg\")\n",
    "print(\"\\033[0;31;40m\" + f\"cv2.imread time = {1000*(time() - begin_time):.2f} ms\" + \"\\033[0m\")\n",
    "print(f\"{img.shape = }\")\n",
    "jshow(img)\n",
    "\n",
    "# 利用resize的方式进行前处理\n",
    "begin_time = time()\n",
    "input_tensor = cv2.resize(img, (input_image_size, input_image_size), interpolation=cv2.INTER_NEAREST) # 利用resize重新开辟内存节约一次\n",
    "input_tensor = cv2.cvtColor(input_tensor, cv2.COLOR_BGR2RGB)\n",
    "# input_tensor = np.array(input_tensor) / 255.0  # yaml文件中已经配置前处理\n",
    "input_tensor = np.transpose(input_tensor, (2, 0, 1))\n",
    "input_tensor = np.expand_dims(input_tensor, axis=0).astype(np.uint8)  # NCHW\n",
    "print(\"\\033[0;31;40m\" + f\"pre process time = {1000*(time() - begin_time):.2f} ms\" + \"\\033[0m\")\n",
    "print(f\"{input_tensor.shape = }\")"
   ]
  },
  {
   "cell_type": "code",
   "execution_count": 20,
   "id": "a8a71b4d-631f-4db2-91a9-271a0938abc4",
   "metadata": {},
   "outputs": [
    {
     "name": "stdout",
     "output_type": "stream",
     "text": [
      "\u001b[0;31;40mforward time = 106.69 ms\u001b[0m\n"
     ]
    }
   ],
   "source": [
    "# 推理\n",
    "begin_time = time()\n",
    "model.read_numpy_arr_uint8(input_tensor, 0)\n",
    "model.forward()\n",
    "print(\"\\033[0;31;40m\" + f\"forward time = {1000*(time() - begin_time):.2f} ms\" + \"\\033[0m\")"
   ]
  },
  {
   "cell_type": "code",
   "execution_count": 21,
   "id": "e4e65db5-f4ac-456c-851a-4b883db3a2de",
   "metadata": {},
   "outputs": [
    {
     "name": "stdout",
     "output_type": "stream",
     "text": [
      "\u001b[0;31;40mc to numpy time = 8.73 ms\u001b[0m\n",
      "s_mces.shape = (204800,)\n",
      "m_mces.shape = (51200,)\n",
      "l_mces.shape = (12800,)\n",
      "s_bboxes.shape = (409600,)\n",
      "m_bboxes.shape = (102400,)\n",
      "l_bboxes.shape = (25600,)\n",
      "s_clses.shape = (512000,)\n",
      "m_clses.shape = (128000,)\n",
      "l_clses.shape = (32000,)\n",
      "protos.shape = (819200,)\n"
     ]
    }
   ],
   "source": [
    "# c to np\n",
    "begin_time = time()\n",
    "s_mces = model.get_infer_res_np_int32(0)\n",
    "m_mces = model.get_infer_res_np_int32(1)\n",
    "l_mces = model.get_infer_res_np_int32(2)\n",
    "s_bboxes = model.get_infer_res_np_int32(3)\n",
    "m_bboxes = model.get_infer_res_np_int32(4)\n",
    "l_bboxes = model.get_infer_res_np_int32(5)\n",
    "s_clses = model.get_infer_res_np_float32(6)\n",
    "m_clses = model.get_infer_res_np_float32(7)\n",
    "l_clses = model.get_infer_res_np_float32(8)\n",
    "protos = model.get_infer_res_np_float32(9)\n",
    "print(\"\\033[0;31;40m\" + f\"c to numpy time = {1000*(time() - begin_time):.2f} ms\" + \"\\033[0m\")\n",
    "\n",
    "print(f\"{s_mces.shape = }\\n{m_mces.shape = }\\n{l_mces.shape = }\")\n",
    "print(f\"{s_bboxes.shape = }\\n{m_bboxes.shape = }\\n{l_bboxes.shape = }\")\n",
    "print(f\"{s_clses.shape = }\\n{m_clses.shape = }\\n{l_clses.shape = }\")\n",
    "print(f\"{protos.shape = }\")"
   ]
  },
  {
   "cell_type": "code",
   "execution_count": 22,
   "id": "ca6170c4-34ba-48bc-9455-fe7ac276d061",
   "metadata": {},
   "outputs": [
    {
     "name": "stdout",
     "output_type": "stream",
     "text": [
      "\u001b[0;31;40mreshape time = 1.63 ms\u001b[0m\n",
      "s_mces.shape = (12800, 32)\n",
      "m_mces.shape = (12800, 32)\n",
      "l_mces.shape = (12800, 32)\n",
      "s_bboxes.shape = (6400, 64)\n",
      "m_bboxes.shape = (1600, 64)\n",
      "l_bboxes.shape = (400, 64)\n",
      "s_clses.shape = (6400, 80)\n",
      "m_clses.shape = (1600, 80)\n",
      "l_clses.shape = (400, 80)\n",
      "protos.shape = (160, 160, 32)\n"
     ]
    }
   ],
   "source": [
    "# reshape\n",
    "begin_time = time()\n",
    "s_mces = s_bboxes.reshape(-1, 32)\n",
    "m_mces = s_bboxes.reshape(-1, 32)\n",
    "l_mces = s_bboxes.reshape(-1, 32)\n",
    "s_bboxes = s_bboxes.reshape(-1, 64)\n",
    "m_bboxes = m_bboxes.reshape(-1, 64)\n",
    "l_bboxes = l_bboxes.reshape(-1, 64)\n",
    "s_clses = s_clses.reshape(-1, 80)\n",
    "m_clses = m_clses.reshape(-1, 80)\n",
    "l_clses = l_clses.reshape(-1, 80)\n",
    "protos = protos.reshape(160, 160, 32)\n",
    "print(\"\\033[0;31;40m\" + f\"reshape time = {1000*(time() - begin_time):.2f} ms\" + \"\\033[0m\")\n",
    "\n",
    "print(f\"{s_mces.shape = }\\n{m_mces.shape = }\\n{l_mces.shape = }\")\n",
    "print(f\"{s_bboxes.shape = }\\n{m_bboxes.shape = }\\n{l_bboxes.shape = }\")\n",
    "print(f\"{s_clses.shape = }\\n{m_clses.shape = }\\n{l_clses.shape = }\")\n",
    "print(f\"{protos.shape = }\")"
   ]
  },
  {
   "cell_type": "code",
   "execution_count": 23,
   "id": "f9f297eb-2643-457d-895f-9fb662aab41d",
   "metadata": {},
   "outputs": [
    {
     "name": "stdout",
     "output_type": "stream",
     "text": [
      "\u001b[0;31;40mSmall, Medium, Big Feature Map Conf Threshold time = 5.17 ms\u001b[0m\n",
      "s_scores.shape = (0,)\n",
      "s_ids.shape = (0,)\n",
      "s_valid_indices.shape = (0,)\n",
      "m_scores.shape = (0,)\n",
      "m_ids.shape = (0,)\n",
      "m_valid_indices.shape = (0,)\n",
      "l_scores.shape = (0,)\n",
      "l_ids.shape = (0,)\n",
      "l_valid_indices.shape = (0,)\n"
     ]
    }
   ],
   "source": [
    "# classify: 利用numpy向量化操作完成阈值筛选（优化版 2.0）\n",
    "begin_time = time()\n",
    "s_max_scores = np.max(s_clses, axis=1)\n",
    "s_valid_indices = np.flatnonzero(s_max_scores >= conf_inverse)  # 得到大于阈值分数的索引，此时为小数字\n",
    "s_ids = np.argmax(s_clses[s_valid_indices, : ], axis=1)\n",
    "s_scores = s_max_scores[s_valid_indices]\n",
    "\n",
    "m_max_scores = np.max(m_clses, axis=1)\n",
    "m_valid_indices = np.flatnonzero(m_max_scores >= conf_inverse)  # 得到大于阈值分数的索引，此时为小数字\n",
    "m_ids = np.argmax(m_clses[m_valid_indices, : ], axis=1)\n",
    "m_scores = m_max_scores[m_valid_indices]\n",
    "\n",
    "l_max_scores = np.max(l_clses, axis=1)\n",
    "l_valid_indices = np.flatnonzero(l_max_scores >= conf_inverse)  # 得到大于阈值分数的索引，此时为小数字\n",
    "l_ids = np.argmax(l_clses[l_valid_indices, : ], axis=1)\n",
    "l_scores = l_max_scores[l_valid_indices]\n",
    "print(\"\\033[0;31;40m\" + f\"Small, Medium, Big Feature Map Conf Threshold time = {1000*(time() - begin_time):.2f} ms\" + \"\\033[0m\")\n",
    "\n",
    "print(f\"{s_scores.shape = }\\n{s_ids.shape = }\\n{s_valid_indices.shape = }\")\n",
    "print(f\"{m_scores.shape = }\\n{m_ids.shape = }\\n{m_valid_indices.shape = }\")\n",
    "print(f\"{l_scores.shape = }\\n{l_ids.shape = }\\n{l_valid_indices.shape = }\")"
   ]
  },
  {
   "cell_type": "code",
   "execution_count": 24,
   "id": "3c701d17-2a92-49d7-9629-bc8c309b03cf",
   "metadata": {},
   "outputs": [
    {
     "name": "stdout",
     "output_type": "stream",
     "text": [
      "\u001b[0;31;40msigmoid time = 0.86 ms\u001b[0m\n"
     ]
    }
   ],
   "source": [
    "# 3个Classify分类分支：Sigmoid计算\n",
    "begin_time = time()\n",
    "s_scores = 1 / (1 + np.exp(-s_scores))\n",
    "m_scores = 1 / (1 + np.exp(-m_scores))\n",
    "l_scores = 1 / (1 + np.exp(-l_scores))\n",
    "print(\"\\033[0;31;40m\" + f\"sigmoid time = {1000*(time() - begin_time):.2f} ms\" + \"\\033[0m\")"
   ]
  },
  {
   "cell_type": "code",
   "execution_count": 25,
   "id": "186471b1-8fa8-4216-b8d8-fe27778e2230",
   "metadata": {},
   "outputs": [
    {
     "name": "stdout",
     "output_type": "stream",
     "text": [
      "\u001b[0;31;40msigmoid time = 59.98 ms\u001b[0m\n"
     ]
    }
   ],
   "source": [
    "# 3个Classify分类分支, 进行完全的Sigmoid计算\n",
    "# 注: 此部分不属于后处理，仅仅作为全部计算和筛选计算的时间对比\n",
    "begin_time = time()\n",
    "_s_scores = 1 / (1 + np.exp(-s_clses))\n",
    "_m_scores = 1 / (1 + np.exp(-s_clses))\n",
    "_l_scores = 1 / (1 + np.exp(-s_clses))\n",
    "print(\"\\033[0;31;40m\" + f\"sigmoid time = {1000*(time() - begin_time):.2f} ms\" + \"\\033[0m\")"
   ]
  },
  {
   "cell_type": "code",
   "execution_count": 26,
   "id": "c3d80a31-5c27-412a-a3f3-d5dd38c0ff68",
   "metadata": {},
   "outputs": [
    {
     "name": "stdout",
     "output_type": "stream",
     "text": [
      "\u001b[0;31;40mBounding Box Dequantized time = 1.40 ms\u001b[0m\n",
      "s_bboxes_float32.shape = (64, 0)\n",
      "m_bboxes_float32.shape = (64, 0)\n",
      "l_bboxes_float32.shape = (64, 0)\n"
     ]
    }
   ],
   "source": [
    "# 3个Bounding Box分支：反量化\n",
    "begin_time = time()\n",
    "s_bboxes_float32 = s_bboxes[s_valid_indices,:].astype(np.float32) * s_bboxes_scale\n",
    "m_bboxes_float32 = m_bboxes[m_valid_indices,:].astype(np.float32) * m_bboxes_scale\n",
    "l_bboxes_float32 = l_bboxes[l_valid_indices,:].astype(np.float32) * l_bboxes_scale\n",
    "s_bboxes_float32 = s_bboxes_float32.transpose(1,0)\n",
    "m_bboxes_float32 = m_bboxes_float32.transpose(1,0)\n",
    "l_bboxes_float32 = l_bboxes_float32.transpose(1,0)\n",
    "print(\"\\033[0;31;40m\" + f\"Bounding Box Dequantized time = {1000*(time() - begin_time):.2f} ms\" + \"\\033[0m\")\n",
    "\n",
    "print(f\"{s_bboxes_float32.shape = }\")\n",
    "print(f\"{m_bboxes_float32.shape = }\")\n",
    "print(f\"{l_bboxes_float32.shape = }\")"
   ]
  },
  {
   "cell_type": "code",
   "execution_count": 27,
   "id": "5e4fc072-7d47-4ad0-9103-f8b15e1ebb20",
   "metadata": {},
   "outputs": [
    {
     "name": "stdout",
     "output_type": "stream",
     "text": [
      "\u001b[0;31;40mdist2bbox（ltrb2xyxy） time = 3.91 ms\u001b[0m\n"
     ]
    }
   ],
   "source": [
    "# 3个Bounding Box分支：dist2bbox（ltrb2xyxy）\n",
    "begin_time = time()\n",
    "s_ltrb_indices = np.sum(softmax(s_bboxes_float32.reshape(4, 16,-1), axis=1) * weights_static, axis=1)\n",
    "s_anchor_indices = s_anchor[:,s_valid_indices]\n",
    "s_x1y1 = s_anchor_indices - s_ltrb_indices[0:2]\n",
    "s_x2y2 = s_anchor_indices + s_ltrb_indices[2:4]\n",
    "s_dbboxes = np.vstack([s_x1y1, s_x2y2]).transpose(1,0)*8\n",
    "\n",
    "m_ltrb_indices = np.sum(softmax(m_bboxes_float32.reshape(4, 16,-1), axis=1) * weights_static, axis=1)\n",
    "m_anchor_indices = m_anchor[:,m_valid_indices]\n",
    "m_x1y1 = m_anchor_indices - m_ltrb_indices[0:2]\n",
    "m_x2y2 = m_anchor_indices + m_ltrb_indices[2:4]\n",
    "m_dbboxes = np.vstack([m_x1y1, m_x2y2]).transpose(1,0)*16\n",
    "\n",
    "l_ltrb_indices = np.sum(softmax(l_bboxes_float32.reshape(4, 16,-1), axis=1) * weights_static, axis=1)\n",
    "l_anchor_indices = l_anchor[:,l_valid_indices]\n",
    "l_x1y1 = l_anchor_indices - l_ltrb_indices[0:2]\n",
    "l_x2y2 = l_anchor_indices + l_ltrb_indices[2:4]\n",
    "l_dbboxes = np.vstack([l_x1y1, l_x2y2]).transpose(1,0)*32\n",
    "print(\"\\033[0;31;40m\" + f\"dist2bbox（ltrb2xyxy） time = {1000*(time() - begin_time):.2f} ms\" + \"\\033[0m\")"
   ]
  },
  {
   "cell_type": "code",
   "execution_count": 36,
   "id": "8abccc1e-681a-4a6e-85bf-3d4013c394f2",
   "metadata": {},
   "outputs": [],
   "source": [
    "# 三个Mask分支的反量化\n",
    "s_mces_float32 = (s_mces[s_valid_indices,:].astype(np.float32) * s_mc_scale).transpose(1,0)\n",
    "m_mces_float32 = (m_mces[m_valid_indices,:].astype(np.float32) * m_mc_scale).transpose(1,0)\n",
    "l_mces_float32 = (l_mces[l_valid_indices,:].astype(np.float32) * l_mc_scale).transpose(1,0)"
   ]
  },
  {
   "cell_type": "code",
   "execution_count": 28,
   "id": "850ed9d6-56ff-4169-983f-2f96a4c50ed8",
   "metadata": {},
   "outputs": [
    {
     "name": "stdout",
     "output_type": "stream",
     "text": [
      "\u001b[0;31;40mconcat time = 1.35 ms\u001b[0m\n",
      "dbboxes.shape = (0, 4)\n",
      "scores.shape = (0,)\n",
      "ids.shape = (0,)\n"
     ]
    }
   ],
   "source": [
    "# 大中小特征层阈值筛选结果拼接\n",
    "begin_time = time()\n",
    "dbboxes = np.concatenate((s_dbboxes, m_dbboxes, l_dbboxes), axis=0)\n",
    "scores = np.concatenate((s_scores, m_scores, l_scores), axis=0)\n",
    "ids = np.concatenate((s_ids, m_ids, l_ids), axis=0)\n",
    "mces = np.concatenate((s_mces_float32, m_mces_float32, l_mces_float32), axis=0)[:, :, np.newaxis, np.newaxis]\n",
    "print(\"\\033[0;31;40m\" + f\"concat time = {1000*(time() - begin_time):.2f} ms\" + \"\\033[0m\")\n",
    "\n",
    "print(f\"{dbboxes.shape = }\")\n",
    "print(f\"{scores.shape = }\")\n",
    "print(f\"{ids.shape = }\")"
   ]
  },
  {
   "cell_type": "code",
   "execution_count": 29,
   "id": "5f12da60-4528-46e1-af31-6371c80b0dd4",
   "metadata": {},
   "outputs": [
    {
     "name": "stdout",
     "output_type": "stream",
     "text": [
      "\u001b[0;31;40mnms time = 1.07 ms\u001b[0m\n"
     ]
    }
   ],
   "source": [
    "# nms\n",
    "begin_time = time()\n",
    "indices = cv2.dnn.NMSBoxes(dbboxes, scores, conf, iou)\n",
    "print(\"\\033[0;31;40m\" + f\"nms time = {1000*(time() - begin_time):.2f} ms\" + \"\\033[0m\")"
   ]
  },
  {
   "cell_type": "code",
   "execution_count": 38,
   "id": "1abce78c-e17f-4e51-8fde-2232c481ab58",
   "metadata": {},
   "outputs": [
    {
     "name": "stdout",
     "output_type": "stream",
     "text": [
      "\u001b[0;31;40mDraw Result time = 1.18 ms\u001b[0m\n",
      "\u001b[0;31;40mAdd Mask time = 181.89 ms\u001b[0m\n"
     ]
    },
    {
     "data": {
      "image/png": "[encoded data removed]",
      "text/plain": [
       "<Figure size 400x400 with 1 Axes>"
      ]
     },
     "metadata": {},
     "output_type": "display_data"
    }
   ],
   "source": [
    "# 绘制\n",
    "img_h, img_w = img.shape[0:2]\n",
    "zeros = np.zeros((160,160,3), dtype=np.uint8)\n",
    "begin_time = time()\n",
    "for index in indices:\n",
    "    score = scores[index]\n",
    "    class_id = ids[index]\n",
    "    x1, y1, x2, y2 = dbboxes[index]\n",
    "    x1_corp, y1_corp, x2_corp, y2_corp = int(x1*x_scale_corp), int(y1*y_scale_corp), int(x2*x_scale_corp), int(y2*y_scale_corp)\n",
    "    # mask\n",
    "    mask = (np.sum(masks[index, :,:,:]*proto[:,y1_corp:y2_corp,x1_corp:x2_corp], axis=0) > 0.0).astype(np.int32)\n",
    "    zeros[y1_corp:y2_corp,x1_corp:x2_corp, :][mask == 1] = yolo_colors[class_id%20]\n",
    "    # bbox\n",
    "    x1, y1, x2, y2 = int(x1*x_scale), int(y1*y_scale), int(x2*x_scale), int(y2*y_scale)\n",
    "    # print(\"(%d, %d, %d, %d) -> %s: %.2f\"%(x1,y1,x2,y2, coco_names[class_id], score))\n",
    "    draw_detection(img, (x1, y1, x2, y2), score, class_id)\n",
    "print(\"\\033[0;31;40m\" + \"Draw Result time = %.2f ms\"%(1000*(time() - begin_time)) + \"\\033[0m\")\n",
    "\n",
    "begin_time = time()\n",
    "zeros = cv2.resize(zeros, (img_w, img_h),cv2.INTER_LANCZOS4)\n",
    "result = np.clip(img + 0.5*zeros, 0, 255).astype(np.uint8)\n",
    "print(\"\\033[0;31;40m\" + \"Add Mask time = %.2f ms\"%(1000*(time() - begin_time)) + \"\\033[0m\")\n",
    "\n",
    "jshow(np.hstack((img, zeros, result)))"
   ]
  },
  {
   "cell_type": "code",
   "execution_count": null,
   "id": "c9aad5ff-69c1-43be-82d0-6860531b3605",
   "metadata": {},
   "outputs": [],
   "source": [
    "# 保存图片到本地\n",
    "begin_time = time()\n",
    "if img_h > img_w: # 横着\n",
    "    cv2.imwrite(opt.test_img + \".result.png\", np.hstack((img, zeros, result)))\n",
    "else: # 竖着\n",
    "    cv2.imwrite(opt.test_img + \".result.png\", np.vstack((img, zeros, result)))\n",
    "print(\"\\033[0;31;40m\" + \"cv2.imwrite time = %.2f ms\"%(1000*(time() - begin_time)) + \"\\033[0m\")"
   ]
  },
  {
   "cell_type": "code",
   "execution_count": null,
   "id": "a7e64dde-7fde-4767-9faa-cc6e05b20cba",
   "metadata": {},
   "outputs": [],
   "source": []
  },
  {
   "cell_type": "code",
   "execution_count": 1,
   "id": "24e66f2a-a33a-4891-bc8d-ee94fc618cde",
   "metadata": {},
   "outputs": [
    {
     "ename": "NameError",
     "evalue": "name 'x_scale_corp' is not defined",
     "output_type": "error",
     "traceback": [
      "\u001b[0;31m---------------------------------------------------------------------------\u001b[0m",
      "\u001b[0;31mNameError\u001b[0m                                 Traceback (most recent call last)",
      "Cell \u001b[0;32mIn[1], line 1\u001b[0m\n\u001b[0;32m----> 1\u001b[0m \u001b[43mx_scale_corp\u001b[49m\n",
      "\u001b[0;31mNameError\u001b[0m: name 'x_scale_corp' is not defined"
     ]
    }
   ],
   "source": [
    "x_scale_corp"
   ]
  },
  {
   "cell_type": "code",
   "execution_count": null,
   "id": "f86d3eb2-a7d4-4146-9ccc-00ee05289aba",
   "metadata": {},
   "outputs": [],
   "source": []
  },
  {
   "cell_type": "code",
   "execution_count": null,
   "id": "4e4e8c9d-ec60-4022-ba62-ae68894a98d1",
   "metadata": {},
   "outputs": [],
   "source": []
  },
  {
   "cell_type": "code",
   "execution_count": null,
   "id": "779294b1-3816-4bc8-ad66-83b4e6ed59d3",
   "metadata": {},
   "outputs": [],
   "source": []
  },
  {
   "cell_type": "code",
   "execution_count": null,
   "id": "da2b855f-6153-4ae0-811c-e40a6adb919b",
   "metadata": {},
   "outputs": [],
   "source": []
  },
  {
   "cell_type": "code",
   "execution_count": null,
   "id": "69813ed6-590d-439a-b97e-7af8826d4e54",
   "metadata": {},
   "outputs": [],
   "source": []
  },
  {
   "cell_type": "code",
   "execution_count": null,
   "id": "a84272d7-5d0d-4ca1-b824-9707abc0a04b",
   "metadata": {},
   "outputs": [],
   "source": []
  }
 ],
 "metadata": {
  "kernelspec": {
   "display_name": "Python 3 (ipykernel)",
   "language": "python",
   "name": "python3"
  },
  "language_info": {
   "codemirror_mode": {
    "name": "ipython",
    "version": 3
   },
   "file_extension": ".py",
   "mimetype": "text/x-python",
   "name": "python",
   "nbconvert_exporter": "python",
   "pygments_lexer": "ipython3",
   "version": "3.10.12"
  }
 },
 "nbformat": 4,
 "nbformat_minor": 5
}
